{
 "cells": [
  {
   "cell_type": "code",
   "execution_count": 65,
   "metadata": {},
   "outputs": [],
   "source": [
    "import pandas as pd \n",
    "import numpy as np \n",
    "import matplotlib.pyplot as plt\n",
    "import matplotlib.cm as cm"
   ]
  },
  {
   "cell_type": "code",
   "execution_count": 66,
   "metadata": {},
   "outputs": [
    {
     "name": "stdout",
     "output_type": "stream",
     "text": [
      "     x   y\n",
      "0   12  39\n",
      "1   20  36\n",
      "2   28  30\n",
      "3   18  52\n",
      "4   29  54\n",
      "5   33  46\n",
      "6   24  55\n",
      "7   45  59\n",
      "8   45  63\n",
      "9   52  70\n",
      "10  51  66\n",
      "11  52  63\n",
      "12  55  58\n",
      "13  53  23\n",
      "14  55  14\n",
      "15  61   8\n",
      "16  64  19\n",
      "17  69   7\n",
      "18  72  24\n"
     ]
    }
   ],
   "source": [
    "# Tạo dữ liệu \n",
    "df = pd.DataFrame({\n",
    "    'x': [12, 20, 28, 18, 29, 33, 24, 45, 45, 52, 51, 52, 55, 53, 55, 61, 64, 69, 72],\n",
    "    'y': [39, 36, 30, 52, 54, 46, 55, 59, 63, 70, 66, 63, 58, 23, 14, 8, 19, 7, 24]\n",
    "})\n",
    "print(df)"
   ]
  },
  {
   "cell_type": "code",
   "execution_count": 67,
   "metadata": {},
   "outputs": [],
   "source": [
    "# Số cluster \n",
    "k = 5"
   ]
  },
  {
   "cell_type": "code",
   "execution_count": 68,
   "metadata": {},
   "outputs": [
    {
     "name": "stdout",
     "output_type": "stream",
     "text": [
      "{1: [33, 4], 2: [61, 64], 3: [44, 73], 4: [74, 35], 5: [55, 41]}\n"
     ]
    }
   ],
   "source": [
    "# Chọn ngẫu nhiên 3 điểm làm center cho dữ liệu => 1 dictionary; center = [x, y]\n",
    "centroids = {\n",
    "    i+1: [np.random.randint(0, 80), np.random.randint(0, 80)]\n",
    "    for i in range(k)\n",
    "}\n",
    "print(centroids)"
   ]
  },
  {
   "cell_type": "code",
   "execution_count": 69,
   "metadata": {},
   "outputs": [
    {
     "name": "stdout",
     "output_type": "stream",
     "text": [
      "[0.   0.25 0.5  0.75 1.  ]\n"
     ]
    },
    {
     "data": {
      "text/plain": [
       "array([[5.00000000e-01, 0.00000000e+00, 1.00000000e+00, 1.00000000e+00],\n",
       "       [1.96078431e-03, 7.09281308e-01, 9.23289106e-01, 1.00000000e+00],\n",
       "       [5.03921569e-01, 9.99981027e-01, 7.04925547e-01, 1.00000000e+00],\n",
       "       [1.00000000e+00, 7.00543038e-01, 3.78411050e-01, 1.00000000e+00],\n",
       "       [1.00000000e+00, 1.22464680e-16, 6.12323400e-17, 1.00000000e+00]])"
      ]
     },
     "execution_count": 69,
     "metadata": {},
     "output_type": "execute_result"
    }
   ],
   "source": [
    "n = np.linspace(0, 1, k)\n",
    "print(n)\n",
    "colors = cm.rainbow(n)\n",
    "\n",
    "colors"
   ]
  },
  {
   "cell_type": "code",
   "execution_count": null,
   "metadata": {},
   "outputs": [],
   "source": []
  },
  {
   "cell_type": "code",
   "execution_count": 70,
   "metadata": {},
   "outputs": [],
   "source": [
    "# Chọn ngẫu nhiên K điểm center từ data\n",
    "def create_center(k):\n",
    "    r = []\n",
    "    for i in range(k): r.append(np.random.randint(0, len(df)))\n",
    "    print(r)\n",
    "    centroids = {\n",
    "        i+1: [df['x'][r[i]], df['y'][r[i]]]\n",
    "        for i in range(k)\n",
    "    }\n",
    "    #print(centroids)\n",
    "    return centroids"
   ]
  },
  {
   "cell_type": "code",
   "execution_count": 79,
   "metadata": {},
   "outputs": [
    {
     "name": "stdout",
     "output_type": "stream",
     "text": [
      "[7, 8, 18, 6, 14]\n"
     ]
    },
    {
     "data": {
      "text/plain": [
       "dict_keys([1, 2, 3, 4, 5])"
      ]
     },
     "execution_count": 79,
     "metadata": {},
     "output_type": "execute_result"
    }
   ],
   "source": [
    "centroids = create_center(k)\n",
    "centroids.keys()"
   ]
  },
  {
   "cell_type": "code",
   "execution_count": 80,
   "metadata": {},
   "outputs": [
    {
     "ename": "KeyError",
     "evalue": "4",
     "output_type": "error",
     "traceback": [
      "\u001b[1;31m---------------------------------------------------------------------------\u001b[0m",
      "\u001b[1;31mKeyError\u001b[0m                                  Traceback (most recent call last)",
      "\u001b[1;32m~\\AppData\\Local\\Temp/ipykernel_5304/1060749760.py\u001b[0m in \u001b[0;36m<module>\u001b[1;34m\u001b[0m\n\u001b[0;32m     10\u001b[0m \u001b[1;31m# Vẽ biểu đồ với 3 điểm center\u001b[0m\u001b[1;33m\u001b[0m\u001b[1;33m\u001b[0m\u001b[0m\n\u001b[0;32m     11\u001b[0m \u001b[1;32mfor\u001b[0m \u001b[0mi\u001b[0m \u001b[1;32min\u001b[0m \u001b[0mcentroids\u001b[0m\u001b[1;33m.\u001b[0m\u001b[0mkeys\u001b[0m\u001b[1;33m(\u001b[0m\u001b[1;33m)\u001b[0m\u001b[1;33m:\u001b[0m\u001b[1;33m\u001b[0m\u001b[1;33m\u001b[0m\u001b[0m\n\u001b[1;32m---> 12\u001b[1;33m     \u001b[0mplt\u001b[0m\u001b[1;33m.\u001b[0m\u001b[0mscatter\u001b[0m\u001b[1;33m(\u001b[0m\u001b[1;33m*\u001b[0m\u001b[0mcentroids\u001b[0m\u001b[1;33m[\u001b[0m\u001b[0mi\u001b[0m\u001b[1;33m]\u001b[0m\u001b[1;33m,\u001b[0m \u001b[0mcolor\u001b[0m\u001b[1;33m=\u001b[0m\u001b[0mcolmap\u001b[0m\u001b[1;33m[\u001b[0m\u001b[0mi\u001b[0m\u001b[1;33m]\u001b[0m\u001b[1;33m)\u001b[0m\u001b[1;33m\u001b[0m\u001b[1;33m\u001b[0m\u001b[0m\n\u001b[0m\u001b[0;32m     13\u001b[0m \u001b[1;33m\u001b[0m\u001b[0m\n\u001b[0;32m     14\u001b[0m \u001b[1;33m\u001b[0m\u001b[0m\n",
      "\u001b[1;31mKeyError\u001b[0m: 4"
     ]
    },
    {
     "data": {
      "image/png": "[encoded data removed]",
      "text/plain": [
       "<Figure size 432x288 with 1 Axes>"
      ]
     },
     "metadata": {
      "needs_background": "light"
     },
     "output_type": "display_data"
    }
   ],
   "source": [
    "# Vẽ biểu đồ \n",
    "plt.scatter(df['x'], df['y'], color=colors[3])\n",
    "# Màu cho mỗi cluster \n",
    "colmap = {\n",
    "    1: 'r',\n",
    "    2: 'g',\n",
    "    3: 'b'\n",
    "}\n",
    "\n",
    "# Vẽ biểu đồ với 3 điểm center\n",
    "for i in centroids.keys():\n",
    "    plt.scatter(*centroids[i], color=colmap[i])\n",
    "\n",
    "\n",
    "plt.xlim(0, 80)\n",
    "plt.ylim(0, 80)\n",
    "plt.show()\n",
    "\n",
    "ax.legend(fontsize='small')"
   ]
  },
  {
   "cell_type": "code",
   "execution_count": 72,
   "metadata": {},
   "outputs": [
    {
     "name": "stdout",
     "output_type": "stream",
     "text": [
      "1\n",
      "2\n",
      "3\n",
      "4\n",
      "5\n"
     ]
    },
    {
     "data": {
      "image/png": "[encoded data removed]",
      "text/plain": [
       "<Figure size 432x288 with 1 Axes>"
      ]
     },
     "metadata": {
      "needs_background": "light"
     },
     "output_type": "display_data"
    }
   ],
   "source": [
    "# Vẽ biểu đồ \n",
    "plt.scatter(df['x'], df['y'], color='k')\n",
    "\n",
    "# Vẽ biểu đồ với 3 điểm center\n",
    "for i in centroids.keys():\n",
    "    plt.scatter(*centroids[i], color=colors[i-1])\n",
    "\n",
    "plt.xlim(0, 80)\n",
    "plt.ylim(0, 80)\n",
    "plt.show()\n",
    "\n",
    "#ax.legend(fontsize='small')"
   ]
  },
  {
   "cell_type": "code",
   "execution_count": 74,
   "metadata": {},
   "outputs": [
    {
     "name": "stdout",
     "output_type": "stream",
     "text": [
      "1\n",
      "2\n",
      "3\n",
      "4\n",
      "5\n"
     ]
    },
    {
     "data": {
      "image/png": "[encoded data removed]",
      "text/plain": [
       "<Figure size 432x288 with 1 Axes>"
      ]
     },
     "metadata": {
      "needs_background": "light"
     },
     "output_type": "display_data"
    }
   ],
   "source": [
    "plt.scatter(df['x'], df['y'], color=df['color'], alpha=0.5, edgecolor='k')\n",
    "for i in centroids.keys():\n",
    "    plt.scatter(*centroids[i], color=colors[i-1])\n",
    "plt.xlim(0, 80)\n",
    "plt.ylim(0, 80)\n",
    "plt.show()"
   ]
  },
  {
   "cell_type": "code",
   "execution_count": 75,
   "metadata": {},
   "outputs": [
    {
     "name": "stdout",
     "output_type": "stream",
     "text": [
      "{1: [62.333333333333336, 15.833333333333334], 2: [30.5, 38.0], 3: [16.666666666666668, 42.333333333333336], 4: [50.0, 63.166666666666664], 5: [26.5, 54.5]}\n"
     ]
    }
   ],
   "source": [
    "import copy\n",
    "\n",
    "old_centroids = copy.deepcopy(centroids)\n",
    "\n",
    "# Update tọa độ mỗi center sau mỗi vòng lặp \n",
    "def update(k):\n",
    "    for i in centroids.keys():\n",
    "        centroids[i][0] = np.mean(df[df['closest'] == i]['x'])\n",
    "        centroids[i][1] = np.mean(df[df['closest'] == i]['y'])\n",
    "    return k\n",
    "\n",
    "centroids = update(centroids)\n",
    "print(centroids)"
   ]
  },
  {
   "cell_type": "code",
   "execution_count": 76,
   "metadata": {},
   "outputs": [
    {
     "name": "stdout",
     "output_type": "stream",
     "text": [
      "     x   y  distance_from_1  distance_from_2  distance_from_3  \\\n",
      "0   12  39        55.408834        18.527007         5.734884   \n",
      "1   20  36        46.891423        10.688779         7.156970   \n",
      "2   28  30        37.141247         8.381527        16.749793   \n",
      "3   18  52        57.214266        18.768324         9.758187   \n",
      "4   29  54        50.673519        16.070159        16.977109   \n",
      "5   33  46        42.076980         8.381527        16.739839   \n",
      "6   24  55        54.803943        18.200275        14.636332   \n",
      "7   45  59        46.516723        25.519600        32.871805   \n",
      "8   45  63        50.250760        28.900692        35.069772   \n",
      "9   52  70        55.143500        38.551913        44.876373   \n",
      "10  51  66        51.430914        34.702305        41.699987   \n",
      "11  52  63        48.285321        32.973474        40.933550   \n",
      "12  55  58        42.799598        31.626729        41.411217   \n",
      "13  53  23        11.767422        27.041635        41.156881   \n",
      "14  55  14         7.559027        34.296501        47.667832   \n",
      "15  61   8         7.945998        42.781421        56.073365   \n",
      "16  64  19         3.578485        38.512985        52.772046   \n",
      "17  69   7        11.066717        49.429242        63.144455   \n",
      "18  72  24        12.654600        43.797831        58.291414   \n",
      "\n",
      "    distance_from_4  distance_from_5  closest  \\\n",
      "0         45.033629        21.224985        3   \n",
      "1         40.472556        19.608672        3   \n",
      "2         39.799846        24.545875        2   \n",
      "3         33.892395         8.860023        5   \n",
      "4         22.913485         2.549510        5   \n",
      "5         24.159769        10.700467        2   \n",
      "6         27.252421         2.549510        5   \n",
      "7          6.508541        19.039433        4   \n",
      "8          5.002777        20.359273        4   \n",
      "9          7.120003        29.841247        4   \n",
      "10         3.004626        27.064737        4   \n",
      "11         2.006932        26.879360        4   \n",
      "12         7.189885        28.714108        4   \n",
      "13        40.278544        41.164305        1   \n",
      "14        49.420250        49.522722        1   \n",
      "15        56.252654        57.900777        1   \n",
      "16        46.332434        51.638164        1   \n",
      "17        59.293292        63.737744        1   \n",
      "18        44.922464        54.776820        1   \n",
      "\n",
      "                                                color  \n",
      "0   [0.503921568627451, 0.9999810273487268, 0.7049...  \n",
      "1   [0.503921568627451, 0.9999810273487268, 0.7049...  \n",
      "2   [0.0019607843137254832, 0.7092813076058535, 0....  \n",
      "3   [1.0, 1.2246467991473532e-16, 6.12323399573676...  \n",
      "4   [1.0, 1.2246467991473532e-16, 6.12323399573676...  \n",
      "5   [0.0019607843137254832, 0.7092813076058535, 0....  \n",
      "6   [1.0, 1.2246467991473532e-16, 6.12323399573676...  \n",
      "7   [1.0, 0.7005430375932911, 0.37841105004231035,...  \n",
      "8   [1.0, 0.7005430375932911, 0.37841105004231035,...  \n",
      "9   [1.0, 0.7005430375932911, 0.37841105004231035,...  \n",
      "10  [1.0, 0.7005430375932911, 0.37841105004231035,...  \n",
      "11  [1.0, 0.7005430375932911, 0.37841105004231035,...  \n",
      "12  [1.0, 0.7005430375932911, 0.37841105004231035,...  \n",
      "13                               [0.5, 0.0, 1.0, 1.0]  \n",
      "14                               [0.5, 0.0, 1.0, 1.0]  \n",
      "15                               [0.5, 0.0, 1.0, 1.0]  \n",
      "16                               [0.5, 0.0, 1.0, 1.0]  \n",
      "17                               [0.5, 0.0, 1.0, 1.0]  \n",
      "18                               [0.5, 0.0, 1.0, 1.0]  \n",
      "{1: [62.333333333333336, 15.833333333333334], 2: [30.5, 38.0], 3: [16.0, 37.5], 4: [50.0, 63.166666666666664], 5: [23.666666666666668, 53.666666666666664]}\n"
     ]
    },
    {
     "data": {
      "image/png": "[encoded data removed]",
      "text/plain": [
       "<Figure size 432x288 with 1 Axes>"
      ]
     },
     "metadata": {
      "needs_background": "light"
     },
     "output_type": "display_data"
    },
    {
     "data": {
      "image/png": "[encoded data removed]",
      "text/plain": [
       "<Figure size 432x288 with 1 Axes>"
      ]
     },
     "metadata": {
      "needs_background": "light"
     },
     "output_type": "display_data"
    },
    {
     "name": "stdout",
     "output_type": "stream",
     "text": [
      "     x   y  distance_from_1  distance_from_2  distance_from_3  \\\n",
      "0   12  39        55.408834        18.527007         4.272002   \n",
      "1   20  36        46.891423        10.688779         4.272002   \n",
      "2   28  30        37.141247         8.381527        14.150972   \n",
      "3   18  52        57.214266        18.768324        14.637281   \n",
      "4   29  54        50.673519        16.070159        21.005952   \n",
      "5   33  46        42.076980         8.381527        19.006578   \n",
      "6   24  55        54.803943        18.200275        19.241881   \n",
      "7   45  59        46.516723        25.519600        36.100554   \n",
      "8   45  63        50.250760        28.900692        38.616706   \n",
      "9   52  70        55.143500        38.551913        48.500000   \n",
      "10  51  66        51.430914        34.702305        45.135906   \n",
      "11  52  63        48.285321        32.973474        44.116324   \n",
      "12  55  58        42.799598        31.626729        44.059619   \n",
      "13  53  23        11.767422        27.041635        39.739779   \n",
      "14  55  14         7.559027        34.296501        45.532955   \n",
      "15  61   8         7.945998        42.781421        53.807527   \n",
      "16  64  19         3.578485        38.512985        51.441715   \n",
      "17  69   7        11.066717        49.429242        61.149407   \n",
      "18  72  24        12.654600        43.797831        57.604253   \n",
      "\n",
      "    distance_from_4  distance_from_5  closest  \\\n",
      "0         45.033629        18.740924        3   \n",
      "1         40.472556        18.043158        3   \n",
      "2         39.799846        24.060110        2   \n",
      "3         33.892395         5.906682        5   \n",
      "4         22.913485         5.343740        5   \n",
      "5         24.159769        12.078447        2   \n",
      "6         27.252421         1.374369        5   \n",
      "7          6.508541        21.989897        4   \n",
      "8          5.002777        23.285666        4   \n",
      "9          7.120003        32.704060        4   \n",
      "10         3.004626        29.987034        4   \n",
      "11         2.006932        29.831005        4   \n",
      "12         7.189885        31.631559        4   \n",
      "13        40.278544        42.436881        1   \n",
      "14        49.420250        50.549206        1   \n",
      "15        56.252654        58.984932        1   \n",
      "16        46.332434        53.184166        1   \n",
      "17        59.293292        65.060655        1   \n",
      "18        44.922464        56.711747        1   \n",
      "\n",
      "                                                color  \n",
      "0   [0.503921568627451, 0.9999810273487268, 0.7049...  \n",
      "1   [0.503921568627451, 0.9999810273487268, 0.7049...  \n",
      "2   [0.0019607843137254832, 0.7092813076058535, 0....  \n",
      "3   [1.0, 1.2246467991473532e-16, 6.12323399573676...  \n",
      "4   [1.0, 1.2246467991473532e-16, 6.12323399573676...  \n",
      "5   [0.0019607843137254832, 0.7092813076058535, 0....  \n",
      "6   [1.0, 1.2246467991473532e-16, 6.12323399573676...  \n",
      "7   [1.0, 0.7005430375932911, 0.37841105004231035,...  \n",
      "8   [1.0, 0.7005430375932911, 0.37841105004231035,...  \n",
      "9   [1.0, 0.7005430375932911, 0.37841105004231035,...  \n",
      "10  [1.0, 0.7005430375932911, 0.37841105004231035,...  \n",
      "11  [1.0, 0.7005430375932911, 0.37841105004231035,...  \n",
      "12  [1.0, 0.7005430375932911, 0.37841105004231035,...  \n",
      "13                               [0.5, 0.0, 1.0, 1.0]  \n",
      "14                               [0.5, 0.0, 1.0, 1.0]  \n",
      "15                               [0.5, 0.0, 1.0, 1.0]  \n",
      "16                               [0.5, 0.0, 1.0, 1.0]  \n",
      "17                               [0.5, 0.0, 1.0, 1.0]  \n",
      "18                               [0.5, 0.0, 1.0, 1.0]  \n",
      "{1: [62.333333333333336, 15.833333333333334], 2: [30.5, 38.0], 3: [16.0, 37.5], 4: [50.0, 63.166666666666664], 5: [23.666666666666668, 53.666666666666664]}\n"
     ]
    },
    {
     "data": {
      "image/png": "[encoded data removed]",
      "text/plain": [
       "<Figure size 432x288 with 1 Axes>"
      ]
     },
     "metadata": {
      "needs_background": "light"
     },
     "output_type": "display_data"
    },
    {
     "data": {
      "image/png": "[encoded data removed]",
      "text/plain": [
       "<Figure size 432x288 with 1 Axes>"
      ]
     },
     "metadata": {
      "needs_background": "light"
     },
     "output_type": "display_data"
    }
   ],
   "source": [
    "# Chạy K_means_clustering => điều kiện dừng khi tọa độ old_center = new_center\n",
    "while old_centroids != centroids:\n",
    "    df = assigment(df, centroids)\n",
    "    print(df)\n",
    "    old_centroids = copy.deepcopy(centroids)\n",
    "    centroids = update(centroids)\n",
    "    print(centroids)\n",
    "    plt.scatter(df['x'], df['y'], color=df['color'], alpha=0.5, edgecolor='k')\n",
    "    for i in centroids.keys():\n",
    "        plt.scatter(*centroids[i], color=colors[i-1])\n",
    "    plt.xlim(0, 80)\n",
    "    plt.ylim(0, 80)\n",
    "    plt.show()\n",
    "    ax = plt.axes()\n",
    "    plt.scatter(df['x'], df['y'], color=df['color'], alpha=0.5, edgecolor='k')\n",
    "    for i in centroids.keys():\n",
    "        plt.scatter(*centroids[i], color=colors[i-1])\n",
    "    plt.xlim(0, 80)\n",
    "    plt.ylim(0, 80)\n",
    "    for i in old_centroids.keys():\n",
    "        old_x = old_centroids[i][0]\n",
    "        old_y = old_centroids[i][1]\n",
    "        dx = (centroids[i][0]) - old_centroids[i][0]*0.75\n",
    "        dy = (centroids[i][1]) - old_centroids[i][1]*0.75\n",
    "        ax.arrow(old_x, old_y, dx, dy, head_width=2, head_length=3, fc=colors[i-1], ec=colors[i-1])\n",
    "    plt.show()"
   ]
  },
  {
   "cell_type": "code",
   "execution_count": null,
   "metadata": {},
   "outputs": [],
   "source": []
  }
 ],
 "metadata": {
  "interpreter": {
   "hash": "8da01e5a71448ea74f54d88afa8911010d1d12e23bc7e103d40d5def4a09152c"
  },
  "kernelspec": {
   "display_name": "Python 3.9.7 64-bit",
   "language": "python",
   "name": "python3"
  },
  "language_info": {
   "codemirror_mode": {
    "name": "ipython",
    "version": 3
   },
   "file_extension": ".py",
   "mimetype": "text/x-python",
   "name": "python",
   "nbconvert_exporter": "python",
   "pygments_lexer": "ipython3",
   "version": "3.10.1"
  },
  "orig_nbformat": 4
 },
 "nbformat": 4,
 "nbformat_minor": 2
}
